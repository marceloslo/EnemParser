{
 "cells": [
  {
   "cell_type": "code",
   "execution_count": 198,
   "id": "fd363b39",
   "metadata": {},
   "outputs": [],
   "source": [
    "import pandas as pd\n",
    "import os,re\n",
    "import numpy as np"
   ]
  },
  {
   "cell_type": "code",
   "execution_count": 199,
   "id": "3d52bd6f",
   "metadata": {},
   "outputs": [],
   "source": [
    "parsed = os.listdir('Data')"
   ]
  },
  {
   "cell_type": "code",
   "execution_count": 200,
   "id": "acb82617",
   "metadata": {},
   "outputs": [],
   "source": [
    "codes = {\n",
    "    2011:{'MT':130,'CN':123,'CH':119,'LC':126},\n",
    "    2012:{'CN':153,'CH':154,'LC':155,'MT':156},\n",
    "    2013:{'CN':188,'CH':187,'LC':189,'MT':190},\n",
    "    2015:{'CN':277,'CH':273,'LC':280,'MT':284},\n",
    "    2016:{'CN':307,'CH':308,'LC':309,'MT':310},\n",
    "    2017:{'CN':407,'CH':408,'LC':409,'MT':410},\n",
    "    2018:{'CN':463,'CH':464,'LC':465,'MT':466},\n",
    "    2019:{'CN':519,'CH':520,'LC':521,'MT':522},\n",
    "    2020:{'CN':604,'CH':574,'LC':584,'MT':594},\n",
    "    2021:{'CN':916,'CH':886,'LC':896,'MT':906},\n",
    "    2022:{'CN':1092,'CH':1062,'LC':1072,'MT':1082}\n",
    "}"
   ]
  },
  {
   "cell_type": "code",
   "execution_count": 266,
   "id": "89cf46f5",
   "metadata": {
    "scrolled": true
   },
   "outputs": [
    {
     "name": "stdout",
     "output_type": "stream",
     "text": [
      "Gabarito and answer should be the same for test ia1_caderno3_CAD_branco_ledor_2011.csv CH\n",
      "Gabarito and answer should be the same for test ia1_caderno3_CAD_branco_ledor_2012.csv CH\n",
      "Gabarito and answer should be the same for test ia1_caderno3_CAD_branco_ledor_2013.csv CH\n"
     ]
    }
   ],
   "source": [
    "dfs = {}\n",
    "\n",
    "\n",
    "def match_gab_to_df(df,gab):\n",
    "    answers=[]\n",
    "    languages=[]\n",
    "    used = set()\n",
    "    for line in df.to_dict(orient='records'):\n",
    "        if line['test']=='redação':\n",
    "            answers.append('')\n",
    "            languages.append('portuguese')\n",
    "            continue\n",
    "        possible_gabarito = gab[gab['question']==line['question_number']]\n",
    "        gabarito = possible_gabarito.iloc[0]\n",
    "        \n",
    "        if (str(gabarito['question'])+str(gabarito['test'])) in used:\n",
    "            gabarito = possible_gabarito.iloc[1]\n",
    "            \n",
    "        answers.append(gabarito['answer'])\n",
    "        languages.append(gabarito['test'] if not pd.isna(gabarito['test']) else 'portuguese')\n",
    "        used.add(str(gabarito['question'])+str(gabarito['test']))\n",
    "    return answers,languages\n",
    "\n",
    "\n",
    "for prova in parsed:\n",
    "    df = pd.read_csv('Data/'+prova)\n",
    "    year = int(re.search(\"\\d\\d\\d\\d\",prova).group())\n",
    "    df['question'] = df['question'].apply(lambda question: question.upper())\n",
    "    df['year'] = year\n",
    "    df['question_number'] = df['question'].apply(lambda question: int(re.search(\"[\\d]+\",question).group()) if re.search(\"[\\d]+\",question) else np.nan)\n",
    "    df['test']='redação'\n",
    "    if 'D1' in prova or 'ia1' in prova:\n",
    "        if year < 2017:\n",
    "            df.loc[df['question_number']<=45,'test'] = 'CH'\n",
    "            df.loc[df['question_number']>45,'test'] = 'CN'\n",
    "        else:\n",
    "            df.loc[df['question_number']<=45,'test'] = 'LC'\n",
    "            df.loc[df['question_number']>45,'test'] = 'CH'\n",
    "    else:\n",
    "        if year < 2017:\n",
    "            df.loc[df['question_number']<=135,'test'] = 'LC'\n",
    "            df.loc[df['question_number']>135,'test'] = 'MT'\n",
    "        else:\n",
    "            df.loc[df['question_number']<=135,'test'] = 'CN'\n",
    "            df.loc[df['question_number']>135,'test'] = 'MT'\n",
    "    #add gabarito data\n",
    "    gab = pd.read_csv('GabaritosCsv/'+prova.replace('CAD','GAB')).sort_values(by=['question','test'])\n",
    "    df['answer'],df['language'] = match_gab_to_df(df,gab)\n",
    "    #we want to sort dataframe in the following order: english -> spanish -> portuguese then question orders\n",
    "    #this is useful for the adding of microdata\n",
    "    df['sort_index'] = df['language'].apply(lambda lang: 0 if lang == 'english' else 1 if lang=='spanish' else 2)\n",
    "    df = df.sort_values(by=['sort_index','question_number']).drop(columns=['sort_index'])\n",
    "    \n",
    "    #add microdata data\n",
    "    important_columns = ['CO_PROVA','NU_PARAM_A','NU_PARAM_B','NU_PARAM_C','TP_LINGUA','CO_POSICAO','CO_HABILIDADE','TX_GABARITO']\n",
    "    microdata = pd.read_csv(f'microdados/ITENS_PROVA_{year}.csv',sep=';',usecols=important_columns, encoding='latin-1')\n",
    "    microdata.loc[microdata['TP_LINGUA'].isna(),'TP_LINGUA']='portuguese'\n",
    "    microdata.loc[microdata['TP_LINGUA']==0,'TP_LINGUA']='english'\n",
    "    microdata.loc[microdata['TP_LINGUA']==1,'TP_LINGUA']='spanish'\n",
    "    \n",
    "    #divide tests\n",
    "    for test in df['test'].drop_duplicates().tolist():\n",
    "        one_subject_test = df[df['test']==test].copy().reset_index(drop=True)\n",
    "        if test == 'redação':\n",
    "            one_subject_test.to_csv(f'ProvasComMicrodados/ENEM_{year}_{test}.csv')\n",
    "        else:\n",
    "            CO_PROVA = codes[year][test]\n",
    "            microdata = microdata[microdata['CO_PROVA']==CO_PROVA].copy()\n",
    "            one_subject_test['CO_PROVA'] = CO_PROVA\n",
    "            \n",
    "            try:\n",
    "                output = pd.merge(one_subject_test,microdata,left_on=['question_number','language'],right_on=['CO_POSICAO','TP_LINGUA'])\n",
    "                if not (output['TX_GABARITO']!=output['answer']).sum()==0:\n",
    "                    raise Exception(f'Gabarito and answer should be the same for test {prova}')\n",
    "            except:\n",
    "                one_subject_test['match'] = list(one_subject_test.index+1)\n",
    "                output = pd.merge(one_subject_test,microdata,left_on=['match'],right_on=['CO_POSICAO']).drop(columns=['match'])\n",
    "                if not (output['TX_GABARITO']!=output['answer']).sum()==0:\n",
    "                    print(f'Gabarito and answer should be the same for test {prova} {test}')\n",
    "                    CO_PROVA = str(CO_PROVA) + 'MAYBEBROKENDONOTUSE'\n",
    "            output.drop(columns=['CO_PROVA_x','TP_LINGUA','TX_GABARITO','CO_POSICAO'],inplace=True)\n",
    "            output.rename(columns={'CO_PROVA_y':'CO_PROVA'},inplace=True)\n",
    "            output['question_number'] = output['question_number'].astype(int)\n",
    "            output.to_csv(f'ProvasComMicrodados/ENEM_{year}_{test}_CO_PROVA_{CO_PROVA}.csv',index=False)\n",
    "    dfs[prova] = df"
   ]
  }
 ],
 "metadata": {
  "kernelspec": {
   "display_name": "Python 3 (ipykernel)",
   "language": "python",
   "name": "python3"
  },
  "language_info": {
   "codemirror_mode": {
    "name": "ipython",
    "version": 3
   },
   "file_extension": ".py",
   "mimetype": "text/x-python",
   "name": "python",
   "nbconvert_exporter": "python",
   "pygments_lexer": "ipython3",
   "version": "3.11.4"
  }
 },
 "nbformat": 4,
 "nbformat_minor": 5
}
