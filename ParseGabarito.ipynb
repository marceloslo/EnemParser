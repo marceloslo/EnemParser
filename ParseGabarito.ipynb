{
 "cells": [
  {
   "cell_type": "code",
   "execution_count": 81,
   "id": "4e5dc421",
   "metadata": {},
   "outputs": [],
   "source": [
    "from PyPDF2 import PdfReader\n",
    "import re,os\n",
    "import pandas as pd\n",
    "import numpy as np"
   ]
  },
  {
   "cell_type": "code",
   "execution_count": 82,
   "id": "f0dc83fc",
   "metadata": {},
   "outputs": [],
   "source": [
    "#This is not good but works"
   ]
  },
  {
   "cell_type": "code",
   "execution_count": 83,
   "id": "1994908e",
   "metadata": {
    "scrolled": false
   },
   "outputs": [],
   "source": [
    "for file in os.listdir('GabaritosLaranjaPDF'):\n",
    "    enem = PdfReader('GabaritosLaranjaPDF/'+file)\n",
    "    try:\n",
    "        text = enem.pages[0].extract_text()\n",
    "        text = re.\n",
    "        gab = np.stack([np.array(i.split(' ')) for i in re.findall(r'[\\d]+ [A-E]',text)])\n",
    "        df = pd.DataFrame({'question':gab[:,0],'answer':gab[:,1]})\n",
    "        df['question'] = pd.to_numeric(df['question'])\n",
    "        df=df.sort_values('question').reset_index(drop=True)\n",
    "    except Exception as e:\n",
    "        print(e)\n",
    "        break\n",
    "    if len(df)!=90 and not 'anulada' in text:\n",
    "        raise Exception('Enem has 90 questions')\n",
    "    elif len(df) != 90:\n",
    "        if df['question'].min() > 90:\n",
    "            for question in range(91,181):\n",
    "                if question not in df['question'].values:\n",
    "                    df.loc[len(df)] = [question,'anulada']\n",
    "        else:\n",
    "            for question in range(1,91):\n",
    "                if question not in df['question'].values:\n",
    "                    df.loc[len(df)] = [question,'anulada']\n",
    "    df.sort_values('question').to_csv('GabaritosCsv/'+file.strip('.pdf')+'.csv',index=False)"
   ]
  },
  {
   "cell_type": "code",
   "execution_count": 84,
   "id": "2df7391b",
   "metadata": {},
   "outputs": [],
   "source": [
    "enem = PdfReader('GabaritosLaranjaPDF/ENEM_2019_P1_GAB_11_DIA_2_LARANJA_LEDOR.pdf')"
   ]
  },
  {
   "cell_type": "code",
   "execution_count": 85,
   "id": "0f4f48dc",
   "metadata": {},
   "outputs": [],
   "source": [
    "text = enem.pages[0].extract_text()\n",
    "gab = np.stack([np.array(i.split(' ')) for i in re.findall(r'[\\d]+ +[A-E]',text)])"
   ]
  },
  {
   "cell_type": "code",
   "execution_count": 76,
   "id": "26deb34a",
   "metadata": {},
   "outputs": [],
   "source": [
    "        df = pd.DataFrame({'question':gab[:,0],'answer':gab[:,1]})\n",
    "        df['question'] = pd.to_numeric(df['question'])\n",
    "        df=df.sort_values('question').reset_index(drop=True)"
   ]
  },
  {
   "cell_type": "code",
   "execution_count": 79,
   "id": "51e2c31f",
   "metadata": {},
   "outputs": [],
   "source": [
    "if df['question'].min() > 90:\n",
    "    for question in range(91,181):\n",
    "        if question not in df['question'].values:\n",
    "            df.loc[len(df)] = [question,'anulada']\n",
    "else:\n",
    "    for question in range(1,91):\n",
    "        if question not in df['question']:\n",
    "            df.loc[len(df)] = [question,'anulada']"
   ]
  },
  {
   "cell_type": "code",
   "execution_count": 86,
   "id": "2de543d6",
   "metadata": {},
   "outputs": [
    {
     "data": {
      "text/plain": [
       "'Prova Ledor\\nGabarito 2019 Laranja 2º DIA - CADERNO 11\\nQUESTÃO GABARITO\\n136  D\\n137  B\\n138  E\\n139  B\\n140  A\\n141  C\\n142  A\\n143  B\\n144  C\\n145  D\\n146  B\\n147  A\\n148  B\\n149  E\\n150  C\\n151  E\\n152  E\\n153  E\\n154  D\\n155  C\\n156  B\\n157  D\\n158  C\\n159  C\\n160  E\\n161  D\\n162  C\\n163  D\\n164  A\\n165  B\\n166  E\\n167  D\\n168  A\\n169  A\\n170  D\\n171  D\\n172  D\\n173  E\\n174  C\\n175  A\\n176  C\\n177  A\\n178  E\\n179  C\\n180  BQUESTÃO GABARITO\\n91  D\\n92  A\\n93  D\\n94  C\\n95  C\\n96  E\\n97  B\\n98  B\\n99  C\\n100  C\\n101  A\\n102  C\\n103  B\\n104  E\\n105  E\\n106  B\\n107  E\\n108  E\\n109  B\\n110  A\\n111  C\\n112  B\\n113  C\\n114  D\\n115  D\\n116  D\\n117  D\\n118  A\\n119  D\\n120  B\\n121  C\\n122  B\\n123  B\\n124  C\\n125  E\\n126  A\\n127  E\\n128  A\\n129  D\\n130  E\\n131  A\\n132  D\\n133  A\\n134  A\\n135  EMATEMÁTICA E SUAS \\nTECNOLOGIAS CIÊNCIAS DA NATUREZA\\nE SUAS TECNOLOGIAS'"
      ]
     },
     "execution_count": 86,
     "metadata": {},
     "output_type": "execute_result"
    }
   ],
   "source": [
    "text"
   ]
  },
  {
   "cell_type": "code",
   "execution_count": 87,
   "id": "5026e285",
   "metadata": {},
   "outputs": [],
   "source": [
    "gab = np.stack([np.array(i.split(' ')) for i in re.findall(r'[\\d]+ +[A-E]',text)])"
   ]
  },
  {
   "cell_type": "code",
   "execution_count": 88,
   "id": "68e0aecd",
   "metadata": {},
   "outputs": [
    {
     "data": {
      "text/plain": [
       "array([['136', '', 'D'],\n",
       "       ['137', '', 'B'],\n",
       "       ['138', '', 'E'],\n",
       "       ['139', '', 'B'],\n",
       "       ['140', '', 'A'],\n",
       "       ['141', '', 'C'],\n",
       "       ['142', '', 'A'],\n",
       "       ['143', '', 'B'],\n",
       "       ['144', '', 'C'],\n",
       "       ['145', '', 'D'],\n",
       "       ['146', '', 'B'],\n",
       "       ['147', '', 'A'],\n",
       "       ['148', '', 'B'],\n",
       "       ['149', '', 'E'],\n",
       "       ['150', '', 'C'],\n",
       "       ['151', '', 'E'],\n",
       "       ['152', '', 'E'],\n",
       "       ['153', '', 'E'],\n",
       "       ['154', '', 'D'],\n",
       "       ['155', '', 'C'],\n",
       "       ['156', '', 'B'],\n",
       "       ['157', '', 'D'],\n",
       "       ['158', '', 'C'],\n",
       "       ['159', '', 'C'],\n",
       "       ['160', '', 'E'],\n",
       "       ['161', '', 'D'],\n",
       "       ['162', '', 'C'],\n",
       "       ['163', '', 'D'],\n",
       "       ['164', '', 'A'],\n",
       "       ['165', '', 'B'],\n",
       "       ['166', '', 'E'],\n",
       "       ['167', '', 'D'],\n",
       "       ['168', '', 'A'],\n",
       "       ['169', '', 'A'],\n",
       "       ['170', '', 'D'],\n",
       "       ['171', '', 'D'],\n",
       "       ['172', '', 'D'],\n",
       "       ['173', '', 'E'],\n",
       "       ['174', '', 'C'],\n",
       "       ['175', '', 'A'],\n",
       "       ['176', '', 'C'],\n",
       "       ['177', '', 'A'],\n",
       "       ['178', '', 'E'],\n",
       "       ['179', '', 'C'],\n",
       "       ['180', '', 'B'],\n",
       "       ['91', '', 'D'],\n",
       "       ['92', '', 'A'],\n",
       "       ['93', '', 'D'],\n",
       "       ['94', '', 'C'],\n",
       "       ['95', '', 'C'],\n",
       "       ['96', '', 'E'],\n",
       "       ['97', '', 'B'],\n",
       "       ['98', '', 'B'],\n",
       "       ['99', '', 'C'],\n",
       "       ['100', '', 'C'],\n",
       "       ['101', '', 'A'],\n",
       "       ['102', '', 'C'],\n",
       "       ['103', '', 'B'],\n",
       "       ['104', '', 'E'],\n",
       "       ['105', '', 'E'],\n",
       "       ['106', '', 'B'],\n",
       "       ['107', '', 'E'],\n",
       "       ['108', '', 'E'],\n",
       "       ['109', '', 'B'],\n",
       "       ['110', '', 'A'],\n",
       "       ['111', '', 'C'],\n",
       "       ['112', '', 'B'],\n",
       "       ['113', '', 'C'],\n",
       "       ['114', '', 'D'],\n",
       "       ['115', '', 'D'],\n",
       "       ['116', '', 'D'],\n",
       "       ['117', '', 'D'],\n",
       "       ['118', '', 'A'],\n",
       "       ['119', '', 'D'],\n",
       "       ['120', '', 'B'],\n",
       "       ['121', '', 'C'],\n",
       "       ['122', '', 'B'],\n",
       "       ['123', '', 'B'],\n",
       "       ['124', '', 'C'],\n",
       "       ['125', '', 'E'],\n",
       "       ['126', '', 'A'],\n",
       "       ['127', '', 'E'],\n",
       "       ['128', '', 'A'],\n",
       "       ['129', '', 'D'],\n",
       "       ['130', '', 'E'],\n",
       "       ['131', '', 'A'],\n",
       "       ['132', '', 'D'],\n",
       "       ['133', '', 'A'],\n",
       "       ['134', '', 'A'],\n",
       "       ['135', '', 'E']], dtype='<U3')"
      ]
     },
     "execution_count": 88,
     "metadata": {},
     "output_type": "execute_result"
    }
   ],
   "source": [
    "gab"
   ]
  },
  {
   "cell_type": "code",
   "execution_count": null,
   "id": "3a707888",
   "metadata": {},
   "outputs": [],
   "source": []
  }
 ],
 "metadata": {
  "kernelspec": {
   "display_name": "Python 3 (ipykernel)",
   "language": "python",
   "name": "python3"
  },
  "language_info": {
   "codemirror_mode": {
    "name": "ipython",
    "version": 3
   },
   "file_extension": ".py",
   "mimetype": "text/x-python",
   "name": "python",
   "nbconvert_exporter": "python",
   "pygments_lexer": "ipython3",
   "version": "3.11.4"
  }
 },
 "nbformat": 4,
 "nbformat_minor": 5
}
