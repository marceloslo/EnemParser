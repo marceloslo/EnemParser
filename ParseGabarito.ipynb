{
 "cells": [
  {
   "cell_type": "code",
   "execution_count": 2,
   "id": "1da9d62e",
   "metadata": {},
   "outputs": [],
   "source": [
    "from PyPDF2 import PdfReader\n",
    "import re,os\n",
    "import pandas as pd\n",
    "import numpy as np"
   ]
  },
  {
   "cell_type": "code",
   "execution_count": 82,
   "id": "31ae0c9e",
   "metadata": {},
   "outputs": [],
   "source": [
    "#This is not good but works"
   ]
  },
  {
   "cell_type": "code",
   "execution_count": 95,
   "id": "531e7664",
   "metadata": {
    "scrolled": false
   },
   "outputs": [],
   "source": [
    "for file in os.listdir('GabaritosLaranjaPDF'):\n",
    "    enem = PdfReader('GabaritosLaranjaPDF/'+file)\n",
    "    try:\n",
    "        text = enem.pages[0].extract_text()\n",
    "        text = re.sub(' +',' ',text)\n",
    "        gab = [i.split(' ') for i in re.findall(r'[\\d]+ [A-E](?: [A-E])?(?!nulad|NULAD)',text)]\n",
    "        #treat prova de espanhol:\n",
    "        new_gab = []\n",
    "        for answ in gab:\n",
    "            if len(answ)>2:\n",
    "                new_gab.append(np.array([answ[0],answ[2],'spanish']))\n",
    "                new_gab.append(np.array([answ[0],answ[1],'english']))\n",
    "            else:\n",
    "                new_gab.append(np.array(answ+[None]))\n",
    "        gab = new_gab\n",
    "        gab = np.stack(gab)\n",
    "        df = pd.DataFrame({'question':gab[:,0],'answer':gab[:,1],'test':gab[:,2]})\n",
    "        df['question'] = pd.to_numeric(df['question'])\n",
    "        df=df.sort_values('question').reset_index(drop=True)\n",
    "    except Exception as e:\n",
    "        print(e)\n",
    "    if (len(df)!=90 and len(df)!=95) and not 'anulad' in text.lower():\n",
    "        raise Exception('Enem has 90 questions')\n",
    "    elif (len(df)!=90 or len(df)!=95):\n",
    "        if df['question'].min() > 90:\n",
    "            for question in range(91,181):\n",
    "                if question not in df['question'].values:\n",
    "                    df.loc[len(df)] = [question,'anulada',None]\n",
    "        else:\n",
    "            for question in range(1,6):\n",
    "                if len(df[df['question']==question]) < 2:\n",
    "                    if 'english' not in df[df['question']==question].tolist():\n",
    "                        df.loc[len(df)] = [question,'anulada','english']\n",
    "                    if 'spanish' not in df[df['question']==question].tolist():\n",
    "                        df.loc[len(df)] = [question,'anulada','spanish']\n",
    "            for question in range(6,91):\n",
    "                if question not in df['question'].values:\n",
    "                    df.loc[len(df)] = [question,'anulada',None]\n",
    "    df.sort_values('question').to_csv('GabaritosCsv/'+file.strip('.pdf')+'.csv',index=False)"
   ]
  }
 ],
 "metadata": {
  "kernelspec": {
   "display_name": "Python 3 (ipykernel)",
   "language": "python",
   "name": "python3"
  },
  "language_info": {
   "codemirror_mode": {
    "name": "ipython",
    "version": 3
   },
   "file_extension": ".py",
   "mimetype": "text/x-python",
   "name": "python",
   "nbconvert_exporter": "python",
   "pygments_lexer": "ipython3",
   "version": "3.11.4"
  }
 },
 "nbformat": 4,
 "nbformat_minor": 5
}
