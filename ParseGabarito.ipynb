{
 "cells": [
  {
   "cell_type": "code",
   "execution_count": 81,
   "id": "56b6864b",
   "metadata": {},
   "outputs": [],
   "source": [
    "from PyPDF2 import PdfReader\n",
    "import re,os\n",
    "import pandas as pd\n",
    "import numpy as np"
   ]
  },
  {
   "cell_type": "code",
   "execution_count": 82,
   "id": "d17705f2",
   "metadata": {},
   "outputs": [],
   "source": [
    "#This is not good but works"
   ]
  },
  {
   "cell_type": "code",
   "execution_count": 98,
   "id": "1631280f",
   "metadata": {
    "scrolled": false
   },
   "outputs": [
    {
     "name": "stdout",
     "output_type": "stream",
     "text": [
      "index 1 is out of bounds for axis 1 with size 1\n"
     ]
    }
   ],
   "source": [
    "for file in os.listdir('GabaritosLaranjaPDF'):\n",
    "    enem = PdfReader('GabaritosLaranjaPDF/'+file)\n",
    "    try:\n",
    "        text = enem.pages[0].extract_text()\n",
    "        text = re.sub(' +',' ',text)\n",
    "        gab = np.stack([np.array(i.split(' ')) for i in re.findall(r'[\\d]+ [A-E](?!(nulado|NULADO))',text)])\n",
    "        df = pd.DataFrame({'question':gab[:,0],'answer':gab[:,1]})\n",
    "        df['question'] = pd.to_numeric(df['question'])\n",
    "        df=df.sort_values('question').reset_index(drop=True)\n",
    "    except Exception as e:\n",
    "        print(e)\n",
    "        break\n",
    "    if len(df)!=90 and not 'anulada' in text.lower():\n",
    "        raise Exception('Enem has 90 questions')\n",
    "    elif len(df) != 90:\n",
    "        if df['question'].min() > 90:\n",
    "            for question in range(91,181):\n",
    "                if question not in df['question'].values:\n",
    "                    df.loc[len(df)] = [question,'anulada']\n",
    "        else:\n",
    "            for question in range(1,91):\n",
    "                if question not in df['question'].values:\n",
    "                    df.loc[len(df)] = [question,'anulada']\n",
    "    df.sort_values('question').to_csv('GabaritosCsv/'+file.strip('.pdf')+'.csv',index=False)"
   ]
  },
  {
   "cell_type": "code",
   "execution_count": 97,
   "id": "79e1398f",
   "metadata": {},
   "outputs": [
    {
     "data": {
      "text/html": [
       "<div>\n",
       "<style scoped>\n",
       "    .dataframe tbody tr th:only-of-type {\n",
       "        vertical-align: middle;\n",
       "    }\n",
       "\n",
       "    .dataframe tbody tr th {\n",
       "        vertical-align: top;\n",
       "    }\n",
       "\n",
       "    .dataframe thead th {\n",
       "        text-align: right;\n",
       "    }\n",
       "</style>\n",
       "<table border=\"1\" class=\"dataframe\">\n",
       "  <thead>\n",
       "    <tr style=\"text-align: right;\">\n",
       "      <th></th>\n",
       "      <th>question</th>\n",
       "      <th>answer</th>\n",
       "    </tr>\n",
       "  </thead>\n",
       "  <tbody>\n",
       "    <tr>\n",
       "      <th>0</th>\n",
       "      <td>91</td>\n",
       "      <td>B</td>\n",
       "    </tr>\n",
       "    <tr>\n",
       "      <th>1</th>\n",
       "      <td>92</td>\n",
       "      <td>C</td>\n",
       "    </tr>\n",
       "    <tr>\n",
       "      <th>2</th>\n",
       "      <td>93</td>\n",
       "      <td>A</td>\n",
       "    </tr>\n",
       "    <tr>\n",
       "      <th>3</th>\n",
       "      <td>94</td>\n",
       "      <td>C</td>\n",
       "    </tr>\n",
       "    <tr>\n",
       "      <th>4</th>\n",
       "      <td>95</td>\n",
       "      <td>E</td>\n",
       "    </tr>\n",
       "    <tr>\n",
       "      <th>...</th>\n",
       "      <td>...</td>\n",
       "      <td>...</td>\n",
       "    </tr>\n",
       "    <tr>\n",
       "      <th>84</th>\n",
       "      <td>176</td>\n",
       "      <td>E</td>\n",
       "    </tr>\n",
       "    <tr>\n",
       "      <th>85</th>\n",
       "      <td>177</td>\n",
       "      <td>B</td>\n",
       "    </tr>\n",
       "    <tr>\n",
       "      <th>86</th>\n",
       "      <td>178</td>\n",
       "      <td>B</td>\n",
       "    </tr>\n",
       "    <tr>\n",
       "      <th>87</th>\n",
       "      <td>179</td>\n",
       "      <td>D</td>\n",
       "    </tr>\n",
       "    <tr>\n",
       "      <th>88</th>\n",
       "      <td>180</td>\n",
       "      <td>D</td>\n",
       "    </tr>\n",
       "  </tbody>\n",
       "</table>\n",
       "<p>89 rows × 2 columns</p>\n",
       "</div>"
      ],
      "text/plain": [
       "    question answer\n",
       "0         91      B\n",
       "1         92      C\n",
       "2         93      A\n",
       "3         94      C\n",
       "4         95      E\n",
       "..       ...    ...\n",
       "84       176      E\n",
       "85       177      B\n",
       "86       178      B\n",
       "87       179      D\n",
       "88       180      D\n",
       "\n",
       "[89 rows x 2 columns]"
      ]
     },
     "execution_count": 97,
     "metadata": {},
     "output_type": "execute_result"
    }
   ],
   "source": [
    "df"
   ]
  },
  {
   "cell_type": "code",
   "execution_count": null,
   "id": "d10365df",
   "metadata": {},
   "outputs": [],
   "source": []
  }
 ],
 "metadata": {
  "kernelspec": {
   "display_name": "Python 3 (ipykernel)",
   "language": "python",
   "name": "python3"
  },
  "language_info": {
   "codemirror_mode": {
    "name": "ipython",
    "version": 3
   },
   "file_extension": ".py",
   "mimetype": "text/x-python",
   "name": "python",
   "nbconvert_exporter": "python",
   "pygments_lexer": "ipython3",
   "version": "3.11.4"
  }
 },
 "nbformat": 4,
 "nbformat_minor": 5
}
