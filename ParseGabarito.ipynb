{
 "cells": [
  {
   "cell_type": "code",
   "execution_count": 2,
   "id": "1da9d62e",
   "metadata": {},
   "outputs": [],
   "source": [
    "from PyPDF2 import PdfReader\n",
    "import re,os\n",
    "import pandas as pd\n",
    "import numpy as np"
   ]
  },
  {
   "cell_type": "code",
   "execution_count": 3,
   "id": "31ae0c9e",
   "metadata": {},
   "outputs": [],
   "source": [
    "#This is not good but works\n"
   ]
  },
  {
   "cell_type": "code",
   "execution_count": 4,
   "id": "531e7664",
   "metadata": {
    "scrolled": true
   },
   "outputs": [],
   "source": [
    "for file in os.listdir('GabaritosLaranjaPDF'):\n",
    "    enem = PdfReader('GabaritosLaranjaPDF/'+file)\n",
    "    try:\n",
    "        text = enem.pages[0].extract_text()\n",
    "        text = re.sub('\\xa0',' ',text)\n",
    "        text = re.sub(' +',' ',text)\n",
    "        is_english = 'inglês' in text.lower()\n",
    "        gab = [i.split(' ') for i in re.findall(r'[\\d]+ [A-E](?: [A-E])?(?!nulad|NULAD)',text)]\n",
    "        #treat prova de espanhol:\n",
    "        new_gab = []\n",
    "        for answ in gab:\n",
    "            if len(answ)>2:\n",
    "                new_gab.append(np.array([answ[0],answ[2],'spanish']))\n",
    "                new_gab.append(np.array([answ[0],answ[1],'english']))\n",
    "            else:\n",
    "                new_gab.append(np.array(answ+[None]))\n",
    "        gab = new_gab\n",
    "        gab = np.stack(gab)\n",
    "        df = pd.DataFrame({'question':gab[:,0],'answer':gab[:,1],'test':gab[:,2]})\n",
    "        df['question'] = pd.to_numeric(df['question'])\n",
    "        df=df.sort_values('question').reset_index(drop=True)\n",
    "        min_quest = 1 if df['question'].min() < 90 else 91\n",
    "        max_quest = min_quest+90\n",
    "        \n",
    "    except Exception as e:\n",
    "        print(e)\n",
    "    if (len(df)!=90 and len(df)!=95) and not 'anulad' in text.lower():\n",
    "        raise Exception('Enem has 90 questions')\n",
    "    elif (len(df)!=90 or len(df)!=95):\n",
    "        for question in range(min_quest,max_quest):\n",
    "            if question not in df['question'].values:\n",
    "                df.loc[len(df)] = [question,'anulada',None]\n",
    "        if is_english:\n",
    "            for question in range(min_quest,min_quest+5):\n",
    "                if len(df[df['question']==question]) < 2:\n",
    "                    if 'english' not in df[df['question']==question]['question'].tolist():\n",
    "                        df.loc[len(df)] = [question,'anulada','english']\n",
    "                    if 'spanish' not in df[df['question']==question]['question'].tolist():\n",
    "                        df.loc[len(df)] = [question,'anulada','spanish']\n",
    "    df.sort_values('question').to_csv('GabaritosCsv/'+file.strip('.pdf')+'.csv',index=False)"
   ]
  },
  {
   "cell_type": "code",
   "execution_count": 5,
   "id": "b94e004d",
   "metadata": {},
   "outputs": [
    {
     "data": {
      "text/html": [
       "<div>\n",
       "<style scoped>\n",
       "    .dataframe tbody tr th:only-of-type {\n",
       "        vertical-align: middle;\n",
       "    }\n",
       "\n",
       "    .dataframe tbody tr th {\n",
       "        vertical-align: top;\n",
       "    }\n",
       "\n",
       "    .dataframe thead th {\n",
       "        text-align: right;\n",
       "    }\n",
       "</style>\n",
       "<table border=\"1\" class=\"dataframe\">\n",
       "  <thead>\n",
       "    <tr style=\"text-align: right;\">\n",
       "      <th></th>\n",
       "      <th>question</th>\n",
       "      <th>answer</th>\n",
       "      <th>test</th>\n",
       "    </tr>\n",
       "  </thead>\n",
       "  <tbody>\n",
       "    <tr>\n",
       "      <th>0</th>\n",
       "      <td>91</td>\n",
       "      <td>E</td>\n",
       "      <td>english</td>\n",
       "    </tr>\n",
       "    <tr>\n",
       "      <th>1</th>\n",
       "      <td>91</td>\n",
       "      <td>C</td>\n",
       "      <td>spanish</td>\n",
       "    </tr>\n",
       "    <tr>\n",
       "      <th>2</th>\n",
       "      <td>92</td>\n",
       "      <td>C</td>\n",
       "      <td>spanish</td>\n",
       "    </tr>\n",
       "    <tr>\n",
       "      <th>3</th>\n",
       "      <td>92</td>\n",
       "      <td>D</td>\n",
       "      <td>english</td>\n",
       "    </tr>\n",
       "    <tr>\n",
       "      <th>4</th>\n",
       "      <td>93</td>\n",
       "      <td>B</td>\n",
       "      <td>spanish</td>\n",
       "    </tr>\n",
       "    <tr>\n",
       "      <th>...</th>\n",
       "      <td>...</td>\n",
       "      <td>...</td>\n",
       "      <td>...</td>\n",
       "    </tr>\n",
       "    <tr>\n",
       "      <th>90</th>\n",
       "      <td>176</td>\n",
       "      <td>E</td>\n",
       "      <td>None</td>\n",
       "    </tr>\n",
       "    <tr>\n",
       "      <th>91</th>\n",
       "      <td>177</td>\n",
       "      <td>A</td>\n",
       "      <td>None</td>\n",
       "    </tr>\n",
       "    <tr>\n",
       "      <th>92</th>\n",
       "      <td>178</td>\n",
       "      <td>C</td>\n",
       "      <td>None</td>\n",
       "    </tr>\n",
       "    <tr>\n",
       "      <th>93</th>\n",
       "      <td>179</td>\n",
       "      <td>B</td>\n",
       "      <td>None</td>\n",
       "    </tr>\n",
       "    <tr>\n",
       "      <th>94</th>\n",
       "      <td>180</td>\n",
       "      <td>A</td>\n",
       "      <td>None</td>\n",
       "    </tr>\n",
       "  </tbody>\n",
       "</table>\n",
       "<p>95 rows × 3 columns</p>\n",
       "</div>"
      ],
      "text/plain": [
       "    question answer     test\n",
       "0         91      E  english\n",
       "1         91      C  spanish\n",
       "2         92      C  spanish\n",
       "3         92      D  english\n",
       "4         93      B  spanish\n",
       "..       ...    ...      ...\n",
       "90       176      E     None\n",
       "91       177      A     None\n",
       "92       178      C     None\n",
       "93       179      B     None\n",
       "94       180      A     None\n",
       "\n",
       "[95 rows x 3 columns]"
      ]
     },
     "execution_count": 5,
     "metadata": {},
     "output_type": "execute_result"
    }
   ],
   "source": [
    "df"
   ]
  },
  {
   "cell_type": "code",
   "execution_count": 21,
   "id": "e623bf31",
   "metadata": {},
   "outputs": [
    {
     "data": {
      "text/plain": [
       "'gabarito_dia1_2009.pdf'"
      ]
     },
     "execution_count": 21,
     "metadata": {},
     "output_type": "execute_result"
    }
   ],
   "source": [
    "file"
   ]
  },
  {
   "cell_type": "code",
   "execution_count": 22,
   "id": "e7d42141",
   "metadata": {},
   "outputs": [
    {
     "data": {
      "text/plain": [
       "'Enem 2009 CADERNOS DO 1° DIA - 05/12/2009\\nCaderno 1 Caderno 2 Caderno 3 Caderno 4\\nAzul Gab_Azul Amarelo Gab_Amarelo Branco Gab_Branco Rosa Gab_Rosa\\n1 C 1 C 1 D 1 B\\n2 D 2 A 2 A 2 E\\n3 A 3 D 3 C 3 D\\n4 B 4 B 4 E 4 D\\n5 E 5 E 5 B 5 C\\n6 D 6 D 6 D 6 A\\n7 D 7 D 7 D 7 D\\n8 B 8 B 8 C 8 B\\n9 D 9 D 9 D 9 D\\n10 C 10 C 10 C 10 C\\n11 C 11 C 11 B 11 C\\n12 A 12 A 12 D 12 A\\n13 D 13 D 13 A 13 D\\n14 E 14 E 14 E 14 E\\n15 B 15 B 15 D 15 D\\n16 D 16 D 16 B 16 B\\n17 E 17 E 17 E 17 E\\n18 E 18 E 18 E 18 E\\n19 D 19 D 19 D 19 D\\n20 E 20 E 20 C 20 E\\n21 C 21 D 21 E 21 D\\n22 D 22 C 22 D 22 C\\n23 E 23 E 23 E 23 E\\n24 A 24 A 24 A 24 A\\n25 B 25 D 25 D 25 B\\n26 D 26 B 26 B 26 B\\n27 D 27 D 27 D 27 D\\n28 B 28 B 28 B 28 D\\n29 D 29 D 29 D 29 D\\n30 D 30 B 30 E 30 B\\n31 E 31 D 31 D 31 D\\n32 B 32 E 32 B 32 E\\n33 C 33 C 33 C 33 C\\n34 C 34 C 34 C 34 C\\n35 A 35 A 35 E 35 A\\n36 E 36 E 36 A 36 E\\n37 D 37 D 37 D 37 D\\n38 D 38 D 38 D 38 D\\n39 B 39 B 39 B 39 B\\n40 D 40 A 40 D 40 A\\n41 A 41 D 41 A 41 D\\n42 E 42 E 42 A 42 A\\n43 A 43 A 43 E 43 E\\n44 D 44 B 44 D 44 D\\n45 B 45 D 45 B 45 B\\n46 A 46 A 46 A 46 A'"
      ]
     },
     "execution_count": 22,
     "metadata": {},
     "output_type": "execute_result"
    }
   ],
   "source": [
    "text"
   ]
  },
  {
   "cell_type": "code",
   "execution_count": null,
   "id": "b48b7674",
   "metadata": {},
   "outputs": [],
   "source": []
  }
 ],
 "metadata": {
  "kernelspec": {
   "display_name": "Python 3 (ipykernel)",
   "language": "python",
   "name": "python3"
  },
  "language_info": {
   "codemirror_mode": {
    "name": "ipython",
    "version": 3
   },
   "file_extension": ".py",
   "mimetype": "text/x-python",
   "name": "python",
   "nbconvert_exporter": "python",
   "pygments_lexer": "ipython3",
   "version": "3.11.4"
  }
 },
 "nbformat": 4,
 "nbformat_minor": 5
}
