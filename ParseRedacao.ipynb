{
 "cells": [
  {
   "cell_type": "code",
   "execution_count": 131,
   "id": "cfaad86a",
   "metadata": {},
   "outputs": [],
   "source": [
    "import os\n",
    "from PyPDF2 import PdfReader\n",
    "import fitz\n",
    "import re,json\n",
    "import pandas as pd"
   ]
  },
  {
   "cell_type": "code",
   "execution_count": 25,
   "id": "b0331de9",
   "metadata": {},
   "outputs": [],
   "source": [
    "redacoes = PdfReader('Redacoes1000/Versão Reduzidamil - Lucas Felpi.pdf')"
   ]
  },
  {
   "cell_type": "code",
   "execution_count": 172,
   "id": "e7e56140",
   "metadata": {},
   "outputs": [],
   "source": [
    "documents = []\n",
    "for file in os.listdir('Redacoes1000'):\n",
    "    redacoes = fitz.open('Redacoes1000/'+file)\n",
    "    version = int(re.search('[\\d]',file).group()) if re.search('[\\d]',file) else 0\n",
    "    for pages in redacoes.pages(2, len(redacoes)):\n",
    "        red = pages.get_text().replace('\\xa0',' ')\n",
    "        red = re.sub(r'\\n(?!\\n)',' ',red)\n",
    "        red = re.sub(r'[ ]+',' ',red)\n",
    "        red = re.sub(r'\\n ','\\n',red)\n",
    "        fields = red.replace('”','\\\"').replace('“','\\\"').split('\\\"')[:-1]\n",
    "        if not fields or 'Análise Prof.' in red or not \"anos\" in red:\n",
    "            continue\n",
    "        author_data = fields[0]\n",
    "        text_data = fields[1:]\n",
    "        text = ''\n",
    "        even=True\n",
    "        for chunk in text_data:\n",
    "            if not even:\n",
    "                text+='\\\"'\n",
    "                text+=chunk\n",
    "                text+='\\\"'\n",
    "            else:\n",
    "                text+=chunk\n",
    "            even = not even\n",
    "        text = text.strip()\n",
    "        documents.append({\n",
    "            \"author_data\":author_data,\n",
    "            \"redacao\":text,\n",
    "            \"year\":2018+(version-1),\n",
    "        })"
   ]
  },
  {
   "cell_type": "code",
   "execution_count": 174,
   "id": "26347c15",
   "metadata": {
    "scrolled": false
   },
   "outputs": [],
   "source": [
    "df = pd.DataFrame(documents)\n",
    "df.loc[df['year']==2018,'tema']=\"Manipulação do comportamento do usuário pelo controle de dados na internet\"\n",
    "df.loc[df['year']==2019,'tema']=\"Democratização do acesso ao cinema no Brasil\"\n",
    "df.loc[df['year']==2020,'tema']=\"O estigma associado às doenças mentais na sociedade brasileira\"\n",
    "df.loc[df['year']==2021,'tema']=\"Invisibilidade e registro civil: garantia de acesso à cidadania no Brasil\""
   ]
  },
  {
   "cell_type": "code",
   "execution_count": 181,
   "id": "5d9459c1",
   "metadata": {},
   "outputs": [],
   "source": [
    "#still need to manually edit the Savicevic Ortega and Gabriela Traven texts, because they have different themes\n",
    "with open('Redacoes1000/all_redacoes.json','w',encoding='utf-8') as file:\n",
    "    for line in df.to_dict(orient='records'):\n",
    "        json.dump(line,file,ensure_ascii=False)\n",
    "        file.write('\\n')"
   ]
  },
  {
   "cell_type": "code",
   "execution_count": null,
   "id": "5d110cfb",
   "metadata": {},
   "outputs": [],
   "source": []
  }
 ],
 "metadata": {
  "kernelspec": {
   "display_name": "Python 3 (ipykernel)",
   "language": "python",
   "name": "python3"
  },
  "language_info": {
   "codemirror_mode": {
    "name": "ipython",
    "version": 3
   },
   "file_extension": ".py",
   "mimetype": "text/x-python",
   "name": "python",
   "nbconvert_exporter": "python",
   "pygments_lexer": "ipython3",
   "version": "3.11.4"
  }
 },
 "nbformat": 4,
 "nbformat_minor": 5
}
