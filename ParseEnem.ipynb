{
 "cells": [
  {
   "cell_type": "code",
   "execution_count": 23,
   "id": "ff5956f2",
   "metadata": {},
   "outputs": [
    {
     "name": "stdout",
     "output_type": "stream",
     "text": [
      "Requirement already satisfied: pymupdf in c:\\users\\msart\\anaconda3\\envs\\icnew\\lib\\site-packages (1.23.3)\n",
      "Requirement already satisfied: PyMuPDFb==1.23.3 in c:\\users\\msart\\anaconda3\\envs\\icnew\\lib\\site-packages (from pymupdf) (1.23.3)\n",
      "Note: you may need to restart the kernel to use updated packages.\n"
     ]
    }
   ],
   "source": [
    "%pip install --upgrade pymupdf PyPDF2"
   ]
  },
  {
   "cell_type": "code",
   "execution_count": 61,
   "id": "902a984d",
   "metadata": {},
   "outputs": [],
   "source": [
    "from PyPDF2 import PdfReader\n",
    "import re,fitz\n",
    "import pandas as pd\n",
    "import os"
   ]
  },
  {
   "cell_type": "code",
   "execution_count": 62,
   "id": "f234b266",
   "metadata": {},
   "outputs": [],
   "source": [
    "#CHANGE FILENAME TO THE NEW ONE\n",
    "FILENAME = 'ExemploSemImagem/ENEM_2022_P1_CAD_09_DIA_1_LARANJA_LEDOR.pdf'\n",
    "OUTNAME = 'Data/ENEM_2022_P1_CAD_09_DIA_1_LARANJA_LEDOR.csv'"
   ]
  },
  {
   "cell_type": "code",
   "execution_count": 63,
   "id": "69126a2f",
   "metadata": {},
   "outputs": [],
   "source": [
    "class EnemAutomata:\n",
    "    def __init__(self):\n",
    "        self.state = 0\n",
    "        self.question = {}\n",
    "        self.state_dict = {\n",
    "            0:'header',\n",
    "            1:'body',\n",
    "            'A':'alternative A',\n",
    "            'B':'alternative B',\n",
    "            'C':'alternative C',\n",
    "            'D':'alternative D',\n",
    "            'E':'alternative E',\n",
    "            'R':'Essay'\n",
    "        }\n",
    "    def clear_memory(self):\n",
    "        self.state = 0\n",
    "        self.question = {}\n",
    "        \n",
    "    def letter_state(self,current_state,next_state,part):\n",
    "        if part.strip() != next_state:\n",
    "            if current_state not in self.question:\n",
    "                self.question[current_state] =''\n",
    "            self.question[current_state]+=(part.strip('\\n')+' ').replace('  ',' ')\n",
    "        else:\n",
    "            self.state = next_state\n",
    "        \n",
    "    def read(self,part):\n",
    "        #final state\n",
    "        if self.state=='E' and (re.search('questão [\\d]+',part.lower()) or re.search('ENDOFENEM',part) or re.search('\\*.*\\*',part)):\n",
    "            ret = self.question.copy()\n",
    "            self.clear_memory()\n",
    "            return ret\n",
    "        elif re.search('\\*.*\\*',part.lower()) and self.state == 'R':\n",
    "            ret = self.question.copy()\n",
    "            self.clear_memory()\n",
    "            return ret\n",
    "        \n",
    "        if not part:\n",
    "            return False\n",
    "        elif re.search('questão [\\d]+',part.lower()) and self.state == 0:\n",
    "            self.question['question'] = part.strip()\n",
    "            self.state = 1\n",
    "        elif re.search('instruções para a redação',part.lower()) and self.state == 0:\n",
    "            self.question['question'] = 'redação'\n",
    "            self.question['body'] = ''\n",
    "            self.question['A'] = None\n",
    "            self.question['B'] = None\n",
    "            self.question['C'] = None\n",
    "            self.question['D'] = None\n",
    "            self.question['E'] = None\n",
    "            self.state = 'R'\n",
    "        elif self.state =='R':\n",
    "            self.question['body']+=(part.strip('\\n')+' ').replace('  ',' ')\n",
    "        elif self.state == 1 and part.strip() != 'A':\n",
    "            if 'body' not in self.question:\n",
    "                self.question['body'] = ''\n",
    "            self.question['body']+=(part.strip('\\n')+' ').replace('  ',' ')\n",
    "        elif self.state==1:\n",
    "            self.state = 'A'\n",
    "        elif self.state != 0 and self.state != 1:\n",
    "            self.letter_state(self.state,chr(ord(self.state)+1),part)\n",
    "        return False            "
   ]
  },
  {
   "cell_type": "code",
   "execution_count": 64,
   "id": "1dbd49d3",
   "metadata": {},
   "outputs": [],
   "source": [
    "class PhysicalEnemParser:\n",
    "    def __init__(self,enem_object,engine='pypdf2'):\n",
    "        self.enem_object = enem_object\n",
    "        parts = []\n",
    "        if engine=='pymupdf':\n",
    "            for page_num in range(1,len(enem_object)):\n",
    "                page = enem_object[page_num]\n",
    "                image_list = page.get_images(full=True)\n",
    "                to_remove = []\n",
    "                for image in image_list:\n",
    "                    bbox = page.get_image_bbox(image)\n",
    "                    tb = page.get_textbox(bbox)\n",
    "                    to_remove.extend(tb.split('\\n'))\n",
    "                page_text = page.get_text().split('\\n')\n",
    "                for text in page_text:\n",
    "                    if text not in to_remove:\n",
    "                        parts.append(text)\n",
    "        if engine =='pypdf2':\n",
    "            def visitor_body(text, cm, tm, fontDict, fontSize):\n",
    "                parts.append(text)\n",
    "\n",
    "            for page in enem_object.pages:\n",
    "                page.extract_text(visitor_text=visitor_body)\n",
    "        self.parts=parts\n",
    "\n",
    "    def parse_questions(self):\n",
    "        self.automata = EnemAutomata()\n",
    "        questions=[]\n",
    "        for part in self.parts:\n",
    "            accept = self.automata.read(part)\n",
    "            while accept:\n",
    "                questions.append(accept)\n",
    "                accept = self.automata.read(part)\n",
    "        return questions"
   ]
  },
  {
   "cell_type": "code",
   "execution_count": 78,
   "id": "3664e5a3",
   "metadata": {},
   "outputs": [],
   "source": [
    "enem = PdfReader(FILENAME)\n",
    "parser = PhysicalEnemParser(enem,engine='pypdf2')\n",
    "questions = parser.parse_questions()\n",
    "df = pd.DataFrame(questions)\n",
    "essay_instructions = df.loc[df['question']=='redação','body']\n",
    "if not essay_instructions.empty:\n",
    "    essay_instructions = essay_instructions.iloc[0]\n",
    "    try:\n",
    "        df.loc[df['question']=='redação','body'] = re.sub(r'PROPOSTA DE REDAÇÃO.*?(?!(TEXTO))','',essay_instructions) + re.search(r'PROPOSTA DE REDAÇÃO.*?(?=TEXTO)',essay_instructions).group(0)\n",
    "    except:\n",
    "        pass\n",
    "df.to_csv(OUTNAME,index=False)"
   ]
  }
 ],
 "metadata": {
  "kernelspec": {
   "display_name": "Python 3 (ipykernel)",
   "language": "python",
   "name": "python3"
  },
  "language_info": {
   "codemirror_mode": {
    "name": "ipython",
    "version": 3
   },
   "file_extension": ".py",
   "mimetype": "text/x-python",
   "name": "python",
   "nbconvert_exporter": "python",
   "pygments_lexer": "ipython3",
   "version": "3.11.4"
  }
 },
 "nbformat": 4,
 "nbformat_minor": 5
}
