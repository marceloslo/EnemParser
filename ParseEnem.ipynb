{
 "cells": [
  {
   "cell_type": "code",
   "execution_count": 29,
   "id": "902a984d",
   "metadata": {},
   "outputs": [],
   "source": [
    "from PyPDF2 import PdfReader\n",
    "import re,fitz\n",
    "import os\n",
    "import pandas as pd"
   ]
  },
  {
   "cell_type": "code",
   "execution_count": 30,
   "id": "69126a2f",
   "metadata": {},
   "outputs": [],
   "source": [
    "class EnemAutomata:\n",
    "    def __init__(self):\n",
    "        self.state = 0\n",
    "        self.question = {}\n",
    "        self.state_dict = {\n",
    "            0:'header',\n",
    "            1:'body',\n",
    "            'A':'alternative A',\n",
    "            'B':'alternative B',\n",
    "            'C':'alternative C',\n",
    "            'D':'alternative D',\n",
    "            'E':'alternative E',\n",
    "            'R':'Essay'\n",
    "        }\n",
    "    def clear_memory(self):\n",
    "        self.state = 0\n",
    "        self.question = {}\n",
    "        \n",
    "    def letter_state(self,current_state,next_state,part):\n",
    "        if part.strip() != next_state:\n",
    "            if current_state not in self.question:\n",
    "                self.question[current_state] =''\n",
    "            self.question[current_state]+=(part.strip('\\n')+' ').replace('  ',' ')\n",
    "        else:\n",
    "            self.state = next_state\n",
    "        \n",
    "    def read(self,part):\n",
    "        #final state\n",
    "        if self.state=='E' and (re.search('questão [\\d]+',part.lower()) or re.search('ENDOFENEM',part) or re.search('\\*.*\\*',part)):\n",
    "            ret = self.question.copy()\n",
    "            self.clear_memory()\n",
    "            return ret\n",
    "        elif re.search('\\*.*\\*',part.lower()) and self.state == 'R':\n",
    "            ret = self.question.copy()\n",
    "            self.clear_memory()\n",
    "            return ret\n",
    "        \n",
    "        if not part:\n",
    "            return False\n",
    "        elif re.search('questão [\\d]+',part.lower()) and self.state == 0:\n",
    "            self.question['question'] = part.strip()\n",
    "            self.state = 1\n",
    "        elif re.search('instruções para a redação',part.lower()) and self.state == 0:\n",
    "            self.question['question'] = 'redação'\n",
    "            self.question['body'] = ''\n",
    "            self.question['A'] = None\n",
    "            self.question['B'] = None\n",
    "            self.question['C'] = None\n",
    "            self.question['D'] = None\n",
    "            self.question['E'] = None\n",
    "            self.state = 'R'\n",
    "        elif self.state =='R':\n",
    "            self.question['body']+=(part.strip('\\n')+' ').replace('  ',' ')\n",
    "        elif self.state == 1 and part.strip() != 'A':\n",
    "            if 'body' not in self.question:\n",
    "                self.question['body'] = ''\n",
    "            self.question['body']+=(part.strip('\\n')+' ').replace('  ',' ')\n",
    "        elif self.state==1:\n",
    "            self.state = 'A'\n",
    "        elif self.state != 0 and self.state != 1:\n",
    "            self.letter_state(self.state,chr(ord(self.state)+1),part)\n",
    "        return False            "
   ]
  },
  {
   "cell_type": "code",
   "execution_count": 31,
   "id": "1dbd49d3",
   "metadata": {},
   "outputs": [],
   "source": [
    "class PhysicalEnemParser:\n",
    "    def __init__(self,enem_object):\n",
    "        self.enem_object = enem_object\n",
    "        parts = []\n",
    "        for page_num in range(1,len(enem_object)):\n",
    "            page = enem_object[page_num]\n",
    "            image_list = page.get_images(full=True)\n",
    "            to_remove = []\n",
    "            for image in image_list:\n",
    "                bbox = page.get_image_bbox(image)\n",
    "                tb = page.get_textbox(bbox)\n",
    "                to_remove.extend(tb.split('\\n'))\n",
    "            page_text = page.get_text().split('\\n')\n",
    "            for text in page_text:\n",
    "                if text not in to_remove:\n",
    "                    parts.append(text)\n",
    "        self.parts = parts\n",
    "    def parse_questions(self):\n",
    "        self.automata = EnemAutomata()\n",
    "        questions=[]\n",
    "        for part in self.parts:\n",
    "            accept = self.automata.read(part)\n",
    "            while accept:\n",
    "                questions.append(accept)\n",
    "                accept = self.automata.read(part)\n",
    "        return questions"
   ]
  },
  {
   "cell_type": "code",
   "execution_count": 66,
   "metadata": {},
   "outputs": [],
   "source": [
    "files = os.listdir('./microdados_enem_2022/PROVAS E GABARITOS')\n",
    "files = [file for file in files if ('laranja' in file.lower()) and ('cad' in file.lower())]\n",
    "for file in files:\n",
    "    enem = fitz.open('./microdados_enem_2022/PROVAS E GABARITOS/'+file)\n",
    "    parser = PhysicalEnemParser(enem)\n",
    "    questions = parser.parse_questions()\n",
    "    df = pd.DataFrame(questions)\n",
    "    essay_instructions = df.loc[df['question']=='redação','body']\n",
    "    if not essay_instructions.empty:\n",
    "        essay_instructions = essay_instructions.iloc[0]\n",
    "        try:\n",
    "            df.loc[df['question']=='redação','body'] = re.sub(r'PROPOSTA DE REDAÇÃO.*?(?!(TEXTO))','',essay_instructions) + re.search(r'PROPOSTA DE REDAÇÃO.*?(?=TEXTO)',essay_instructions).group(0)\n",
    "        except:\n",
    "            pass\n",
    "    df.to_csv(f'./Data/{file.rstrip(\".pdf\")}.csv',index=False)"
   ]
  },
  {
   "cell_type": "code",
   "execution_count": 67,
   "metadata": {},
   "outputs": [],
   "source": [
    "df = pd.read_csv('./Data/ENEM_2022_P1_CAD_09_DIA_1_LARANJA_LEDOR.csv')"
   ]
  },
  {
   "cell_type": "code",
   "execution_count": 68,
   "metadata": {},
   "outputs": [
    {
     "data": {
      "text/plain": [
       "'1. O rascunho da redação deve ser feito no espaço apropriado. 2. O texto definitivo deve ser escrito à tinta preta, na folha própria, em até 30 linhas. 3. A redação que apresentar cópia dos textos da Proposta de Redação ou do Caderno de Questões terá o número de linhas copiadas desconsiderado para a contagem de linhas. 4. Receberá nota zero, em qualquer das situações expressas a seguir, a redação que:  4.1. tiver até 7 (sete) linhas escritas, sendo considerada “texto insuficiente”;  4.2. fugir ao tema ou não atender ao tipo dissertativo-argumentativo;  4.3. apresentar parte do texto deliberadamente desconectada do tema proposto;  4.4. apresentar nome, assinatura, rubrica ou outras formas de identificação no espaço destinado ao texto. TEXTO 1 Você sabe quais são as comunidades e os povos tradicionais brasileiros? Talvez indígenas e quilombolas sejam os primeiros que passam pela cabeça, mas, na verdade, além deles, existem 26 reconhecidos oficialmente e muitos outros que ainda não foram incluídos na legislação. São pescadores artesanais, quebradeiras de coco babaçu, apanhadores de flores sempre-vivas, caatingueiros, extrativistas, para citar alguns, todos considerados culturalmente diferenciados, capazes de se reconhecerem entre si. Para uma pesquisadora da UnB, essas populações consideram a terra como uma mãe, e há uma relação de reciprocidade com a natureza. Nessa troca, a natureza fornece “alimento, um lugar saudável para habitar, para ter água. E elas se responsabilizam por cuidar dela, por tirar dela apenas o suficiente para viver bem e respeitam o tempo de regeneração da própria natureza”, diz. TEXTO 2 Descrição da imagem: Infográfico intitulado Povos tradicionais do Brasil: Estados com a maior concentração de famílias. Indígena: Amazonas, 43 264; Mato Grosso do Sul, 21 507; Roraima, 15 316. Quilombola: Bahia, 43 009; Maranhão, 39 316; Pará, 15 282. Cigano: Bahia, 1 538; Goiás, 643; Minas Gerais, 556. Extrativista: Pará, 11 826; Amazonas, 9 772; Maranhão, 7 190. Pescador: Pará, 40 123; Maranhão, 33 085; Bahia, 30 920. Povos de terreiro: Bahia, 1 883; Piauí, 856; Ceará, 603. Ribeirinho: Pará, 50 314; Amazonas, 16 507; Bahia, 9 670. Fonte: Ministério Público Federal. Infográfico elaborado em: 25/10/2019. Estados com a maior concentração de famílias Povos tradicionais do Brasil Pescador PA MA BA 40.123 33.085 30.920 Povos de terreiro BA PI CE 1.883 856 603 Ribeirinho PA AM BA 50.314 16.507 9.670 Fonte: Ministério Público Federal. Infográfico elaborado em: 25/10/2019. AM MS RR 43.264 21.507 15.316 Quilombola BA MA PA 43.009 39.316 15.282 Cigano BA GO MG 1.538 643 556 Extrativista PA AM MA 11.826 9.772 7.190 Indígena   A partir da leitura dos textos motivadores e com base nos conhecimentos construídos ao longo de sua formação, redija um texto dissertativo-argumentativo em modalidade escrita formal da língua portuguesa sobre o tema “Desafios para a valorização de comunidades e povos tradicionais no Brasil”, apresentando proposta de intervenção que respeite os direitos humanos. Selecione, organize e relacione, de forma coerente e coesa, argumentos e fatos para a defesa de seu ponto de vista. TEXTO 3 Povos e comunidades tradicionais O Ministério do Desenvolvimento Social (MDS) preside, desde 2007, a Comissão Nacional de Desenvolvimento Sustentável dos Povos e Comunidades Tradicionais (CNPCT), criada em 2006. Fruto dos trabalhos da CNPCT, foi instituída, por meio do Decreto nº 6.040, de 7 de fevereiro de 2017, a Política Nacional de Desenvolvimento Sustentável dos Povos e Comunidades Tradicionais (PNPCT). A PNPCT foi criada em um contexto de busca de reconhecimento e preservação de outras formas de organização social por parte do Estado. TEXTO 4 Carta da Amazônia 2021 Aos participantes da vigésima sexta Conferência das Nações Unidas sobre Mudanças Climáticas (COP26) Não podia ser mais estratégico para nós, Povos Indígenas, Populações e Comunidades Tradicionais brasileiras, reafirmarmos a defesa da sociobiodiversidade amazônica neste momento em que o mundo volta a debater a crise climática na COP26. Uma crise que atinge, em todos os contextos, os viventes da Terra! Nossos territórios protegidos e direitos respeitados são as reivindicações dos movimentos sociais e ambientais brasileiros. Não compactuamos com qualquer tentativa e estratégia baseada somente na lógica do mercado, com empresas que apoiam legislações ambientais que ameaçam nossos direitos e com mecanismos de financiamento que não condizem com a realidade dos nossos territórios. Propomos o que temos de melhor: a experiência das nossas sociedades e culturas históricas, construídas com base em nossos saberes tradicionais e ancestrais, além de nosso profundo conhecimento da natureza. Inovação, para nós, não pode resultar em processos que venham a ameaçar nossos territórios, nossas formas tradicionais e harmônicas de viver e produzir. Amazônia, Brasil, 20 de outubro de 2021. Entidades signatárias: CNS; Coiab; Conaq; MIQCB; Coica; ANA Amazônia e Confrem PROPOSTA DE REDAÇÃO A partir da leitura dos textos motivadores e com base nos conhecimentos construídos ao longo de sua formação, redija um texto dissertativo-argumentativo em modalidade escrita formal da língua portuguesa sobre o tema “Desafios para a valorização de comunidades e povos tradicionais no Brasil”, apresentando proposta de intervenção que respeite os direitos humanos. Selecione, organize e relacione, de forma coerente e coesa, argumentos e fatos para a defesa de seu ponto de vista. '"
      ]
     },
     "execution_count": 68,
     "metadata": {},
     "output_type": "execute_result"
    }
   ],
   "source": [
    "df.loc[df['question']=='redação','body'].iloc[0]"
   ]
  },
  {
   "cell_type": "code",
   "execution_count": null,
   "metadata": {},
   "outputs": [],
   "source": []
  }
 ],
 "metadata": {
  "kernelspec": {
   "display_name": "Python 3 (ipykernel)",
   "language": "python",
   "name": "python3"
  },
  "language_info": {
   "codemirror_mode": {
    "name": "ipython",
    "version": 3
   },
   "file_extension": ".py",
   "mimetype": "text/x-python",
   "name": "python",
   "nbconvert_exporter": "python",
   "pygments_lexer": "ipython3",
   "version": "3.11.4"
  }
 },
 "nbformat": 4,
 "nbformat_minor": 5
}
