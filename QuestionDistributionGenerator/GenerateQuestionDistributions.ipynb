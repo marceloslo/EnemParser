{
 "cells": [
  {
   "cell_type": "code",
   "execution_count": 1,
   "id": "72ba8b18",
   "metadata": {},
   "outputs": [],
   "source": [
    "import pandas as pd\n",
    "import numpy as np\n",
    "from tqdm import tqdm\n",
    "import gc\n",
    "tqdm.pandas()"
   ]
  },
  {
   "cell_type": "code",
   "execution_count": 2,
   "id": "3de953bb",
   "metadata": {},
   "outputs": [],
   "source": [
    "answer_data = pd.read_csv('../MicrodadosAlunos/answer_data.csv')\n",
    "code_question_mapping = pd.read_csv('../MicrodadosAlunos/questao_prova_mapping.csv')"
   ]
  },
  {
   "cell_type": "code",
   "execution_count": 3,
   "id": "c30e70b4",
   "metadata": {},
   "outputs": [
    {
     "data": {
      "text/plain": [
       "RESPOSTA\n",
       "A    72290959\n",
       "B    71676717\n",
       "C    71576313\n",
       "D    65906092\n",
       "E    58465315\n",
       "*     1392684\n",
       "Name: count, dtype: int64"
      ]
     },
     "metadata": {},
     "output_type": "display_data"
    }
   ],
   "source": [
    "answer_data['RESPOSTA'] = answer_data['RESPOSTA'].replace('.','*')\n",
    "display(answer_data['RESPOSTA'].value_counts())"
   ]
  },
  {
   "cell_type": "code",
   "execution_count": 4,
   "id": "241b579c",
   "metadata": {},
   "outputs": [],
   "source": [
    "def convert_to_prob_dist(x):\n",
    "    unique, counts = np.unique(x, return_counts=True)\n",
    "    a_counts = counts[np.where(unique=='A')]/len(x)\n",
    "    a_counts = a_counts[0] if a_counts.size else 0\n",
    "    b_counts = counts[np.where(unique=='B')]/len(x)\n",
    "    b_counts = b_counts[0] if b_counts.size else 0\n",
    "    c_counts = counts[np.where(unique=='C')]/len(x) \n",
    "    c_counts = c_counts[0] if c_counts.size else 0\n",
    "    d_counts = counts[np.where(unique=='D')]/len(x)\n",
    "    d_counts = d_counts[0] if d_counts.size else 0\n",
    "    e_counts = counts[np.where(unique=='E')]/len(x) \n",
    "    e_counts = e_counts[0] if e_counts.size else 0\n",
    "    none_counts = counts[np.where(unique=='*')]/len(x)\n",
    "    none_counts = none_counts[0] if none_counts.size else 0\n",
    "    np.testing.assert_allclose(np.sum([a_counts,b_counts,c_counts,d_counts,e_counts,none_counts]), 1, rtol=1e-5, atol=0)\n",
    "    return np.array([a_counts,b_counts,c_counts,d_counts,e_counts,none_counts])"
   ]
  },
  {
   "cell_type": "code",
   "execution_count": 5,
   "id": "8eed45c3",
   "metadata": {},
   "outputs": [
    {
     "name": "stderr",
     "output_type": "stream",
     "text": [
      "100%|████████████████████████████████████████████████████████████████████████████████| 195/195 [00:35<00:00,  5.57it/s]\n"
     ]
    },
    {
     "data": {
      "text/plain": [
       "0"
      ]
     },
     "execution_count": 5,
     "metadata": {},
     "output_type": "execute_result"
    }
   ],
   "source": [
    "#first create the general answer distribution dataframe\n",
    "df = answer_data.groupby('CO_ITEM')['RESPOSTA'].agg(list).reset_index()\n",
    "df['answer_distribution'] = df['RESPOSTA'].progress_apply(lambda x:convert_to_prob_dist(np.array(x)))\n",
    "df['TX_GABARITO'] = df['CO_ITEM'].apply(lambda x:code_question_mapping[code_question_mapping['CO_ITEM']==x]['TX_GABARITO'].iloc[0])\n",
    "df['correct_probability'] = df.apply(lambda row: 0.0 if row['TX_GABARITO'] not in ['A','B','C','D','E'] else row['answer_distribution'][ord(row['TX_GABARITO'])-65],axis=1)\n",
    "df[['CO_ITEM','TX_GABARITO','answer_distribution','correct_probability']].to_csv('DISTRIBUTIONS/answer_dist_per_question.csv',index=False)\n",
    "del df\n",
    "gc.collect()"
   ]
  },
  {
   "cell_type": "markdown",
   "id": "2e7b4857",
   "metadata": {},
   "source": [
    "# Now create distributions based on categories"
   ]
  },
  {
   "cell_type": "code",
   "execution_count": 6,
   "id": "266802fd",
   "metadata": {},
   "outputs": [],
   "source": [
    "student_data = pd.read_csv('../MicrodadosAlunos/student_data.csv').drop(columns=['NU_INSCRICAO','NSE_SCORE'])"
   ]
  },
  {
   "cell_type": "code",
   "execution_count": 10,
   "id": "30bd2a97",
   "metadata": {},
   "outputs": [],
   "source": [
    "def create_distributions_from_column(column_name):\n",
    "    print(column_name)\n",
    "    answer_data = pd.read_csv('../MicrodadosAlunos/answer_data.csv')\n",
    "    answer_data['RESPOSTA'] = answer_data['RESPOSTA'].replace('.','*')\n",
    "    print('read data')\n",
    "    answer_data = pd.merge(answer_data,student_data[['ID',column_name]],on='ID')\n",
    "    answer_data = answer_data.groupby(['CO_ITEM',column_name])['RESPOSTA'].agg(list).reset_index()\n",
    "    answer_data['answer_distribution'] = answer_data['RESPOSTA'].progress_apply(lambda x:convert_to_prob_dist(np.array(x)))\n",
    "    print('created distributions')\n",
    "    answer_data['TX_GABARITO'] = answer_data['CO_ITEM'].apply(lambda x:code_question_mapping[code_question_mapping['CO_ITEM']==x]['TX_GABARITO'].iloc[0])\n",
    "    answer_data['correct_probability'] = answer_data.apply(lambda row: 0.0 if row['TX_GABARITO'] not in ['A','B','C','D','E'] else row['answer_distribution'][ord(row['TX_GABARITO'])-65],axis=1)\n",
    "    answer_data[['CO_ITEM',column_name,'TX_GABARITO','answer_distribution','correct_probability']].to_csv(f'DISTRIBUTIONS/answer_dist_per_question_{column_name}.csv',index=False)\n",
    "    del answer_data\n",
    "    gc.collect()\n",
    "    print('==================================================')"
   ]
  },
  {
   "cell_type": "code",
   "execution_count": 11,
   "id": "de0c3756",
   "metadata": {},
   "outputs": [
    {
     "name": "stdout",
     "output_type": "stream",
     "text": [
      "SG_UF_PROVA\n",
      "read data\n"
     ]
    },
    {
     "name": "stderr",
     "output_type": "stream",
     "text": [
      "100%|██████████████████████████████████████████████████████████████████████████████| 5255/5255 [01:05<00:00, 80.81it/s]\n"
     ]
    },
    {
     "name": "stdout",
     "output_type": "stream",
     "text": [
      "created distributions\n",
      "==================================================\n",
      "TP_ESCOLA\n",
      "read data\n"
     ]
    },
    {
     "name": "stderr",
     "output_type": "stream",
     "text": [
      "100%|████████████████████████████████████████████████████████████████████████████████| 585/585 [01:08<00:00,  8.52it/s]\n"
     ]
    },
    {
     "name": "stdout",
     "output_type": "stream",
     "text": [
      "created distributions\n",
      "==================================================\n",
      "RENDA\n",
      "read data\n"
     ]
    },
    {
     "name": "stderr",
     "output_type": "stream",
     "text": [
      "100%|██████████████████████████████████████████████████████████████████████████████| 3305/3305 [01:07<00:00, 48.71it/s]\n"
     ]
    },
    {
     "name": "stdout",
     "output_type": "stream",
     "text": [
      "created distributions\n",
      "==================================================\n",
      "TP_SEXO\n",
      "read data\n"
     ]
    },
    {
     "name": "stderr",
     "output_type": "stream",
     "text": [
      "100%|████████████████████████████████████████████████████████████████████████████████| 390/390 [01:12<00:00,  5.39it/s]\n"
     ]
    },
    {
     "name": "stdout",
     "output_type": "stream",
     "text": [
      "created distributions\n",
      "==================================================\n",
      "TP_COR_RACA\n",
      "read data\n"
     ]
    },
    {
     "name": "stderr",
     "output_type": "stream",
     "text": [
      "100%|██████████████████████████████████████████████████████████████████████████████| 1165/1165 [01:09<00:00, 16.73it/s]\n"
     ]
    },
    {
     "name": "stdout",
     "output_type": "stream",
     "text": [
      "created distributions\n",
      "==================================================\n",
      "NSE_LEVEL\n",
      "read data\n"
     ]
    },
    {
     "name": "stderr",
     "output_type": "stream",
     "text": [
      "100%|██████████████████████████████████████████████████████████████████████████████| 1560/1560 [01:00<00:00, 25.83it/s]\n"
     ]
    },
    {
     "name": "stdout",
     "output_type": "stream",
     "text": [
      "created distributions\n",
      "==================================================\n",
      "CPU times: total: 13min 32s\n",
      "Wall time: 24min 32s\n"
     ]
    }
   ],
   "source": [
    "%%time\n",
    "for column_name in student_data.columns[1:]:\n",
    "    create_distributions_from_column(column_name)"
   ]
  },
  {
   "cell_type": "code",
   "execution_count": 12,
   "id": "ce021c22",
   "metadata": {},
   "outputs": [],
   "source": [
    "nse_map = {1:'Very Low',2:'Very Low',3:'Medium',4:'Medium',5:'Medium',6:'Medium',7:'Very High',8:'Very High'}"
   ]
  },
  {
   "cell_type": "code",
   "execution_count": 15,
   "id": "600da90a",
   "metadata": {},
   "outputs": [
    {
     "name": "stdout",
     "output_type": "stream",
     "text": [
      "read data\n"
     ]
    },
    {
     "name": "stderr",
     "output_type": "stream",
     "text": [
      "100%|█████████████████████████████████████████████████████████████████████████████| 3475/3475 [00:34<00:00, 100.95it/s]\n"
     ]
    },
    {
     "name": "stdout",
     "output_type": "stream",
     "text": [
      "created distributions\n"
     ]
    },
    {
     "ename": "KeyError",
     "evalue": "\"['NSE_CLASS'] not in index\"",
     "output_type": "error",
     "traceback": [
      "\u001b[1;31m---------------------------------------------------------------------------\u001b[0m",
      "\u001b[1;31mKeyError\u001b[0m                                  Traceback (most recent call last)",
      "Cell \u001b[1;32mIn[15], line 13\u001b[0m\n\u001b[0;32m     11\u001b[0m answer_data[\u001b[38;5;124m'\u001b[39m\u001b[38;5;124mcorrect_probability\u001b[39m\u001b[38;5;124m'\u001b[39m] \u001b[38;5;241m=\u001b[39m answer_data\u001b[38;5;241m.\u001b[39mapply(\u001b[38;5;28;01mlambda\u001b[39;00m row: \u001b[38;5;241m0.0\u001b[39m \u001b[38;5;28;01mif\u001b[39;00m row[\u001b[38;5;124m'\u001b[39m\u001b[38;5;124mTX_GABARITO\u001b[39m\u001b[38;5;124m'\u001b[39m] \u001b[38;5;129;01mnot\u001b[39;00m \u001b[38;5;129;01min\u001b[39;00m [\u001b[38;5;124m'\u001b[39m\u001b[38;5;124mA\u001b[39m\u001b[38;5;124m'\u001b[39m,\u001b[38;5;124m'\u001b[39m\u001b[38;5;124mB\u001b[39m\u001b[38;5;124m'\u001b[39m,\u001b[38;5;124m'\u001b[39m\u001b[38;5;124mC\u001b[39m\u001b[38;5;124m'\u001b[39m,\u001b[38;5;124m'\u001b[39m\u001b[38;5;124mD\u001b[39m\u001b[38;5;124m'\u001b[39m,\u001b[38;5;124m'\u001b[39m\u001b[38;5;124mE\u001b[39m\u001b[38;5;124m'\u001b[39m] \u001b[38;5;28;01melse\u001b[39;00m row[\u001b[38;5;124m'\u001b[39m\u001b[38;5;124manswer_distribution\u001b[39m\u001b[38;5;124m'\u001b[39m][\u001b[38;5;28mord\u001b[39m(row[\u001b[38;5;124m'\u001b[39m\u001b[38;5;124mTX_GABARITO\u001b[39m\u001b[38;5;124m'\u001b[39m])\u001b[38;5;241m-\u001b[39m\u001b[38;5;241m65\u001b[39m],axis\u001b[38;5;241m=\u001b[39m\u001b[38;5;241m1\u001b[39m)\n\u001b[0;32m     12\u001b[0m answer_data\u001b[38;5;241m.\u001b[39mrename(columns\u001b[38;5;241m=\u001b[39m{\u001b[38;5;124m'\u001b[39m\u001b[38;5;124mNSE_LEVEL\u001b[39m\u001b[38;5;124m'\u001b[39m:\u001b[38;5;124m'\u001b[39m\u001b[38;5;124mNSE_CLASS\u001b[39m\u001b[38;5;124m'\u001b[39m})\n\u001b[1;32m---> 13\u001b[0m answer_data[[\u001b[38;5;124m'\u001b[39m\u001b[38;5;124mCO_ITEM\u001b[39m\u001b[38;5;124m'\u001b[39m,\u001b[38;5;124m'\u001b[39m\u001b[38;5;124mNSE_CLASS\u001b[39m\u001b[38;5;124m'\u001b[39m,\u001b[38;5;124m'\u001b[39m\u001b[38;5;124mTP_COR_RACA\u001b[39m\u001b[38;5;124m'\u001b[39m,\u001b[38;5;124m'\u001b[39m\u001b[38;5;124mTX_GABARITO\u001b[39m\u001b[38;5;124m'\u001b[39m,\u001b[38;5;124m'\u001b[39m\u001b[38;5;124manswer_distribution\u001b[39m\u001b[38;5;124m'\u001b[39m,\u001b[38;5;124m'\u001b[39m\u001b[38;5;124mcorrect_probability\u001b[39m\u001b[38;5;124m'\u001b[39m]]\u001b[38;5;241m.\u001b[39mto_csv(\u001b[38;5;124mf\u001b[39m\u001b[38;5;124m'\u001b[39m\u001b[38;5;124mDISTRIBUTIONS/answer_dist_per_question_RACE_NSE.csv\u001b[39m\u001b[38;5;124m'\u001b[39m,index\u001b[38;5;241m=\u001b[39m\u001b[38;5;28;01mFalse\u001b[39;00m)\n\u001b[0;32m     14\u001b[0m \u001b[38;5;28;01mdel\u001b[39;00m answer_data\n\u001b[0;32m     15\u001b[0m gc\u001b[38;5;241m.\u001b[39mcollect()\n",
      "File \u001b[1;32m~\\anaconda3\\envs\\ic\\Lib\\site-packages\\pandas\\core\\frame.py:3767\u001b[0m, in \u001b[0;36mDataFrame.__getitem__\u001b[1;34m(self, key)\u001b[0m\n\u001b[0;32m   3765\u001b[0m     \u001b[38;5;28;01mif\u001b[39;00m is_iterator(key):\n\u001b[0;32m   3766\u001b[0m         key \u001b[38;5;241m=\u001b[39m \u001b[38;5;28mlist\u001b[39m(key)\n\u001b[1;32m-> 3767\u001b[0m     indexer \u001b[38;5;241m=\u001b[39m \u001b[38;5;28mself\u001b[39m\u001b[38;5;241m.\u001b[39mcolumns\u001b[38;5;241m.\u001b[39m_get_indexer_strict(key, \u001b[38;5;124m\"\u001b[39m\u001b[38;5;124mcolumns\u001b[39m\u001b[38;5;124m\"\u001b[39m)[\u001b[38;5;241m1\u001b[39m]\n\u001b[0;32m   3769\u001b[0m \u001b[38;5;66;03m# take() does not accept boolean indexers\u001b[39;00m\n\u001b[0;32m   3770\u001b[0m \u001b[38;5;28;01mif\u001b[39;00m \u001b[38;5;28mgetattr\u001b[39m(indexer, \u001b[38;5;124m\"\u001b[39m\u001b[38;5;124mdtype\u001b[39m\u001b[38;5;124m\"\u001b[39m, \u001b[38;5;28;01mNone\u001b[39;00m) \u001b[38;5;241m==\u001b[39m \u001b[38;5;28mbool\u001b[39m:\n",
      "File \u001b[1;32m~\\anaconda3\\envs\\ic\\Lib\\site-packages\\pandas\\core\\indexes\\base.py:5877\u001b[0m, in \u001b[0;36mIndex._get_indexer_strict\u001b[1;34m(self, key, axis_name)\u001b[0m\n\u001b[0;32m   5874\u001b[0m \u001b[38;5;28;01melse\u001b[39;00m:\n\u001b[0;32m   5875\u001b[0m     keyarr, indexer, new_indexer \u001b[38;5;241m=\u001b[39m \u001b[38;5;28mself\u001b[39m\u001b[38;5;241m.\u001b[39m_reindex_non_unique(keyarr)\n\u001b[1;32m-> 5877\u001b[0m \u001b[38;5;28mself\u001b[39m\u001b[38;5;241m.\u001b[39m_raise_if_missing(keyarr, indexer, axis_name)\n\u001b[0;32m   5879\u001b[0m keyarr \u001b[38;5;241m=\u001b[39m \u001b[38;5;28mself\u001b[39m\u001b[38;5;241m.\u001b[39mtake(indexer)\n\u001b[0;32m   5880\u001b[0m \u001b[38;5;28;01mif\u001b[39;00m \u001b[38;5;28misinstance\u001b[39m(key, Index):\n\u001b[0;32m   5881\u001b[0m     \u001b[38;5;66;03m# GH 42790 - Preserve name from an Index\u001b[39;00m\n",
      "File \u001b[1;32m~\\anaconda3\\envs\\ic\\Lib\\site-packages\\pandas\\core\\indexes\\base.py:5941\u001b[0m, in \u001b[0;36mIndex._raise_if_missing\u001b[1;34m(self, key, indexer, axis_name)\u001b[0m\n\u001b[0;32m   5938\u001b[0m     \u001b[38;5;28;01mraise\u001b[39;00m \u001b[38;5;167;01mKeyError\u001b[39;00m(\u001b[38;5;124mf\u001b[39m\u001b[38;5;124m\"\u001b[39m\u001b[38;5;124mNone of [\u001b[39m\u001b[38;5;132;01m{\u001b[39;00mkey\u001b[38;5;132;01m}\u001b[39;00m\u001b[38;5;124m] are in the [\u001b[39m\u001b[38;5;132;01m{\u001b[39;00maxis_name\u001b[38;5;132;01m}\u001b[39;00m\u001b[38;5;124m]\u001b[39m\u001b[38;5;124m\"\u001b[39m)\n\u001b[0;32m   5940\u001b[0m not_found \u001b[38;5;241m=\u001b[39m \u001b[38;5;28mlist\u001b[39m(ensure_index(key)[missing_mask\u001b[38;5;241m.\u001b[39mnonzero()[\u001b[38;5;241m0\u001b[39m]]\u001b[38;5;241m.\u001b[39munique())\n\u001b[1;32m-> 5941\u001b[0m \u001b[38;5;28;01mraise\u001b[39;00m \u001b[38;5;167;01mKeyError\u001b[39;00m(\u001b[38;5;124mf\u001b[39m\u001b[38;5;124m\"\u001b[39m\u001b[38;5;132;01m{\u001b[39;00mnot_found\u001b[38;5;132;01m}\u001b[39;00m\u001b[38;5;124m not in index\u001b[39m\u001b[38;5;124m\"\u001b[39m)\n",
      "\u001b[1;31mKeyError\u001b[0m: \"['NSE_CLASS'] not in index\""
     ]
    }
   ],
   "source": [
    "#generate NSE AND RACE data\n",
    "answer_data = pd.read_csv('../MicrodadosAlunos/answer_data.csv')\n",
    "answer_data['RESPOSTA'] = answer_data['RESPOSTA'].replace('.','*')\n",
    "print('read data')\n",
    "answer_data = pd.merge(answer_data,student_data[['ID','NSE_LEVEL','TP_COR_RACA']],on='ID')\n",
    "answer_data['NSE_LEVEL'] = answer_data['NSE_LEVEL'].apply(lambda nse:nse_map[nse])\n",
    "answer_data = answer_data.groupby(['CO_ITEM','NSE_LEVEL','TP_COR_RACA'])['RESPOSTA'].agg(list).reset_index()\n",
    "answer_data['answer_distribution'] = answer_data['RESPOSTA'].progress_apply(lambda x:convert_to_prob_dist(np.array(x)))\n",
    "print('created distributions')\n",
    "answer_data['TX_GABARITO'] = answer_data['CO_ITEM'].apply(lambda x:code_question_mapping[code_question_mapping['CO_ITEM']==x]['TX_GABARITO'].iloc[0])\n",
    "answer_data['correct_probability'] = answer_data.apply(lambda row: 0.0 if row['TX_GABARITO'] not in ['A','B','C','D','E'] else row['answer_distribution'][ord(row['TX_GABARITO'])-65],axis=1)\n",
    "answer_data.rename(columns={'NSE_LEVEL':'NSE_CLASS'},inplace=True)\n",
    "answer_data[['CO_ITEM','NSE_CLASS','TP_COR_RACA','TX_GABARITO','answer_distribution','correct_probability']].to_csv(f'DISTRIBUTIONS/answer_dist_per_question_RACE_NSE.csv',index=False)\n",
    "del answer_data\n",
    "gc.collect()\n",
    "print('==================================================')"
   ]
  },
  {
   "cell_type": "code",
   "execution_count": 16,
   "id": "093bc789",
   "metadata": {},
   "outputs": [],
   "source": [
    "answer_data.rename(columns={'NSE_LEVEL':'NSE_CLASS'},inplace=True)\n",
    "answer_data[['CO_ITEM','NSE_CLASS','TP_COR_RACA','TX_GABARITO','answer_distribution','correct_probability']].to_csv(f'DISTRIBUTIONS/answer_dist_per_question_RACE_NSE.csv',index=False)"
   ]
  },
  {
   "cell_type": "code",
   "execution_count": null,
   "id": "31414841",
   "metadata": {},
   "outputs": [],
   "source": []
  }
 ],
 "metadata": {
  "kernelspec": {
   "display_name": "Python 3 (ipykernel)",
   "language": "python",
   "name": "python3"
  },
  "language_info": {
   "codemirror_mode": {
    "name": "ipython",
    "version": 3
   },
   "file_extension": ".py",
   "mimetype": "text/x-python",
   "name": "python",
   "nbconvert_exporter": "python",
   "pygments_lexer": "ipython3",
   "version": "3.11.4"
  }
 },
 "nbformat": 4,
 "nbformat_minor": 5
}
