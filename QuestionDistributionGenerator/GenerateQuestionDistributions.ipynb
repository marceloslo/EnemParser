{
 "cells": [
  {
   "cell_type": "code",
   "execution_count": 1,
   "id": "72ba8b18",
   "metadata": {},
   "outputs": [],
   "source": [
    "import pandas as pd\n",
    "import numpy as np\n",
    "from tqdm import tqdm\n",
    "import gc\n",
    "tqdm.pandas()"
   ]
  },
  {
   "cell_type": "code",
   "execution_count": 2,
   "id": "3de953bb",
   "metadata": {},
   "outputs": [],
   "source": [
    "answer_data = pd.read_csv('../MicrodadosAlunos/answer_data.csv')\n",
    "code_question_mapping = pd.read_csv('../MicrodadosAlunos/questao_prova_mapping.csv')"
   ]
  },
  {
   "cell_type": "code",
   "execution_count": 3,
   "id": "c30e70b4",
   "metadata": {},
   "outputs": [
    {
     "data": {
      "text/plain": [
       "RESPOSTA\n",
       "A    72290959\n",
       "B    71676717\n",
       "C    71576313\n",
       "D    65906092\n",
       "E    58465315\n",
       "*     1392684\n",
       "Name: count, dtype: int64"
      ]
     },
     "metadata": {},
     "output_type": "display_data"
    }
   ],
   "source": [
    "answer_data['RESPOSTA'] = answer_data['RESPOSTA'].replace('.','*')\n",
    "display(answer_data['RESPOSTA'].value_counts())"
   ]
  },
  {
   "cell_type": "code",
   "execution_count": 4,
   "id": "241b579c",
   "metadata": {},
   "outputs": [],
   "source": [
    "def convert_to_prob_dist(x):\n",
    "    unique, counts = np.unique(x, return_counts=True)\n",
    "    a_counts = counts[np.where(unique=='A')]/len(x)\n",
    "    a_counts = a_counts[0] if a_counts.size else 0\n",
    "    b_counts = counts[np.where(unique=='B')]/len(x)\n",
    "    b_counts = b_counts[0] if b_counts.size else 0\n",
    "    c_counts = counts[np.where(unique=='C')]/len(x) \n",
    "    c_counts = c_counts[0] if c_counts.size else 0\n",
    "    d_counts = counts[np.where(unique=='D')]/len(x)\n",
    "    d_counts = d_counts[0] if d_counts.size else 0\n",
    "    e_counts = counts[np.where(unique=='E')]/len(x) \n",
    "    e_counts = e_counts[0] if e_counts.size else 0\n",
    "    none_counts = counts[np.where(unique=='*')]/len(x)\n",
    "    none_counts = none_counts[0] if none_counts.size else 0\n",
    "    return np.array([a_counts,b_counts,c_counts,d_counts,e_counts,none_counts])"
   ]
  },
  {
   "cell_type": "code",
   "execution_count": 5,
   "id": "8eed45c3",
   "metadata": {},
   "outputs": [
    {
     "name": "stderr",
     "output_type": "stream",
     "text": [
      "100%|████████████████████████████████████████████████████████████████████████████████| 195/195 [01:10<00:00,  2.78it/s]\n"
     ]
    },
    {
     "data": {
      "text/plain": [
       "0"
      ]
     },
     "execution_count": 5,
     "metadata": {},
     "output_type": "execute_result"
    }
   ],
   "source": [
    "#first create the general answer distribution dataframe\n",
    "df = answer_data.groupby('CO_ITEM')['RESPOSTA'].agg(list).reset_index()\n",
    "df['answer_distribution'] = df['RESPOSTA'].progress_apply(lambda x:convert_to_prob_dist(np.array(x)))\n",
    "df['TX_GABARITO'] = df['CO_ITEM'].apply(lambda x:code_question_mapping[code_question_mapping['CO_ITEM']==x]['TX_GABARITO'].iloc[0])\n",
    "df['correct_probability'] = df.apply(lambda row: 0.0 if row['TX_GABARITO'] not in ['A','B','C','D','E'] else row['answer_distribution'][ord(row['TX_GABARITO'])-65],axis=1)\n",
    "df[['CO_ITEM','TX_GABARITO','answer_distribution','correct_probability']].to_csv('DISTRIBUTIONS/answer_dist_per_question.csv',index=False)\n",
    "del df\n",
    "gc.collect()"
   ]
  },
  {
   "cell_type": "markdown",
   "id": "2e7b4857",
   "metadata": {},
   "source": [
    "# Now create distributions based on categories"
   ]
  },
  {
   "cell_type": "code",
   "execution_count": 5,
   "id": "266802fd",
   "metadata": {},
   "outputs": [],
   "source": [
    "student_data = pd.read_csv('../MicrodadosAlunos/student_data.csv').drop(columns=['NU_INSCRICAO'])"
   ]
  },
  {
   "cell_type": "code",
   "execution_count": 6,
   "id": "30bd2a97",
   "metadata": {},
   "outputs": [],
   "source": [
    "def create_distributions_from_column(column_name):\n",
    "    print(column_name)\n",
    "    answer_data = pd.read_csv('../MicrodadosAlunos/answer_data.csv')\n",
    "    answer_data['RESPOSTA'] = answer_data['RESPOSTA'].replace('.','*')\n",
    "    print('read data')\n",
    "    answer_data = pd.merge(answer_data,student_data[['ID',column_name]],on='ID')\n",
    "    answer_data = answer_data.groupby(['CO_ITEM',column_name])['RESPOSTA'].agg(list).reset_index()\n",
    "    answer_data['answer_distribution'] = answer_data['RESPOSTA'].progress_apply(lambda x:convert_to_prob_dist(np.array(x)))\n",
    "    print('created distributions')\n",
    "    answer_data['TX_GABARITO'] = answer_data['CO_ITEM'].apply(lambda x:code_question_mapping[code_question_mapping['CO_ITEM']==x]['TX_GABARITO'].iloc[0])\n",
    "    answer_data['correct_probability'] = answer_data.apply(lambda row: 0.0 if row['TX_GABARITO'] not in ['A','B','C','D','E'] else row['answer_distribution'][ord(row['TX_GABARITO'])-65],axis=1)\n",
    "    answer_data[['CO_ITEM',column_name,'TX_GABARITO','answer_distribution','correct_probability']].to_csv(f'DISTRIBUTIONS/answer_dist_per_question_{column_name}.csv',index=False)\n",
    "    del answer_data\n",
    "    gc.collect()\n",
    "    print('==================================================')"
   ]
  },
  {
   "cell_type": "code",
   "execution_count": 7,
   "id": "de0c3756",
   "metadata": {},
   "outputs": [
    {
     "name": "stdout",
     "output_type": "stream",
     "text": [
      "SG_UF_PROVA\n",
      "read data\n"
     ]
    },
    {
     "name": "stderr",
     "output_type": "stream",
     "text": [
      "100%|██████████████████████████████████████████████████████████████████████████████| 5255/5255 [01:04<00:00, 81.60it/s]\n"
     ]
    },
    {
     "name": "stdout",
     "output_type": "stream",
     "text": [
      "created distributions\n",
      "==================================================\n",
      "TP_ESCOLA\n",
      "read data\n"
     ]
    },
    {
     "name": "stderr",
     "output_type": "stream",
     "text": [
      "100%|████████████████████████████████████████████████████████████████████████████████| 585/585 [01:09<00:00,  8.37it/s]\n"
     ]
    },
    {
     "name": "stdout",
     "output_type": "stream",
     "text": [
      "created distributions\n",
      "==================================================\n",
      "RENDA\n",
      "read data\n"
     ]
    },
    {
     "name": "stderr",
     "output_type": "stream",
     "text": [
      "100%|██████████████████████████████████████████████████████████████████████████████| 3305/3305 [01:05<00:00, 50.23it/s]\n"
     ]
    },
    {
     "name": "stdout",
     "output_type": "stream",
     "text": [
      "created distributions\n",
      "==================================================\n",
      "TP_SEXO\n",
      "read data\n"
     ]
    },
    {
     "name": "stderr",
     "output_type": "stream",
     "text": [
      "100%|████████████████████████████████████████████████████████████████████████████████| 390/390 [01:08<00:00,  5.71it/s]\n"
     ]
    },
    {
     "name": "stdout",
     "output_type": "stream",
     "text": [
      "created distributions\n",
      "==================================================\n",
      "TP_COR_RACA\n",
      "read data\n"
     ]
    },
    {
     "name": "stderr",
     "output_type": "stream",
     "text": [
      "100%|██████████████████████████████████████████████████████████████████████████████| 1165/1165 [01:07<00:00, 17.34it/s]\n"
     ]
    },
    {
     "name": "stdout",
     "output_type": "stream",
     "text": [
      "created distributions\n",
      "==================================================\n",
      "CPU times: total: 11min 11s\n",
      "Wall time: 20min 21s\n"
     ]
    }
   ],
   "source": [
    "%%time\n",
    "for column_name in student_data.columns[1:]:\n",
    "    create_distributions_from_column(column_name)"
   ]
  },
  {
   "cell_type": "code",
   "execution_count": null,
   "id": "600da90a",
   "metadata": {},
   "outputs": [],
   "source": []
  }
 ],
 "metadata": {
  "kernelspec": {
   "display_name": "Python 3 (ipykernel)",
   "language": "python",
   "name": "python3"
  },
  "language_info": {
   "codemirror_mode": {
    "name": "ipython",
    "version": 3
   },
   "file_extension": ".py",
   "mimetype": "text/x-python",
   "name": "python",
   "nbconvert_exporter": "python",
   "pygments_lexer": "ipython3",
   "version": "3.11.4"
  }
 },
 "nbformat": 4,
 "nbformat_minor": 5
}
